{
 "cells": [
  {
   "cell_type": "markdown",
   "metadata": {},
   "source": [
    "# Simple user autoencoder\n",
    "\n",
    "* Each user is one data example\n",
    "* The representation of one user which consists of his ratings for 1000 movies is compressed to a hidden layer of 128 neurons\n",
    "* When reconstructing the user from this embedding layer, the gaps are filled in (the ratings for movies which the user has not seen yet"
   ]
  },
  {
   "cell_type": "code",
   "execution_count": 4,
   "metadata": {},
   "outputs": [],
   "source": [
    "import numpy as np\n",
    "import pandas as pd\n",
    "import matplotlib.pylab as plt\n",
    "import tensorflow as tf"
   ]
  },
  {
   "cell_type": "markdown",
   "metadata": {},
   "source": [
    "## Loading and preprocessig data"
   ]
  },
  {
   "cell_type": "markdown",
   "metadata": {},
   "source": [
    "### Load train data"
   ]
  },
  {
   "cell_type": "code",
   "execution_count": 5,
   "metadata": {},
   "outputs": [],
   "source": [
    "data = pd.read_csv(\"data/data_train.csv\")\n",
    "data = np.asarray(data)"
   ]
  },
  {
   "cell_type": "markdown",
   "metadata": {},
   "source": [
    "### Split in train and test set"
   ]
  },
  {
   "cell_type": "code",
   "execution_count": 7,
   "metadata": {},
   "outputs": [],
   "source": [
    "split = 10 # 10% test data\n",
    "inds = np.random.permutation(len(data))\n",
    "test_inds = inds[:len(data)//split]\n",
    "train_inds = inds[len(data)//split:]"
   ]
  },
  {
   "cell_type": "markdown",
   "metadata": {},
   "source": [
    "### Convert to two sparse matrices"
   ]
  },
  {
   "cell_type": "code",
   "execution_count": 8,
   "metadata": {},
   "outputs": [],
   "source": [
    "train_matrix = np.zeros((10000,1000))\n",
    "test_matrix = np.zeros((10000,1000))\n",
    "\n",
    "for entry in data[train_inds]:\n",
    "    field = entry[0].split(\"_\")\n",
    "    row = int(field[0][1:])\n",
    "    col = int(field[1][1:])\n",
    "    train_matrix[row-1, col-1] = entry[1]\n",
    "\n",
    "for entry in data[test_inds]:\n",
    "    field = entry[0].split(\"_\")\n",
    "    row = int(field[0][1:])\n",
    "    col = int(field[1][1:])\n",
    "    test_matrix[row-1, col-1] = entry[1]"
   ]
  },
  {
   "cell_type": "markdown",
   "metadata": {},
   "source": [
    "### Normalize ratings to values between 0 and 1"
   ]
  },
  {
   "cell_type": "code",
   "execution_count": 9,
   "metadata": {},
   "outputs": [],
   "source": [
    "train_matrix/=5\n",
    "test_matrix/=5"
   ]
  },
  {
   "cell_type": "markdown",
   "metadata": {},
   "source": [
    "## Define tensorflow graph"
   ]
  },
  {
   "cell_type": "code",
   "execution_count": null,
   "metadata": {},
   "outputs": [],
   "source": [
    "def encode(x, keep_prob=1.0, n_hidden=512, n_embed=128, act_hidden=tf.nn.relu, act_out=tf.nn.relu):\n",
    "    with tf.name_scope(\"encoder\"):\n",
    "        hidden = tf.layers.dense(x, n_hidden, activation=act_hidden)\n",
    "        hidden = tf.nn.dropout(hidden, keep_prob=keep_prob)\n",
    "        Z_mu = tf.layers.dense(hidden, n_embed, activation=act_out)\n",
    "        return Z_mu\n",
    "\n",
    "def decode(z, keep_prob=1.0, n_hidden=512, act_hidden=tf.nn.relu, act_out=None, nr_movies = 1000):\n",
    "    with tf.name_scope(\"decoder\"):\n",
    "        hidden = tf.layers.dense(z, n_hidden, activation=act_hidden)\n",
    "        hidden = tf.nn.dropout(hidden, keep_prob=keep_prob)\n",
    "        outputs = tf.layers.dense(hidden, nr_movies, activation=act_out)\n",
    "    return outputs\n",
    "\n",
    "def masked_loss(mask, y):\n",
    "    \"\"\"\n",
    "    RMSE loss - \n",
    "    masks entries that are zero in input (mask) \n",
    "    and computes loss only between the entries of reconstructed input (y) which is nonzero in mask\n",
    "    \"\"\"\n",
    "    num_train_labels=tf.cast(tf.count_nonzero(mask),dtype=tf.float32) # number of non zero values in the training set\n",
    "    bool_mask=tf.cast(mask,dtype=tf.bool) # boolean mask\n",
    "    masked_y = tf.where(bool_mask, y, tf.zeros_like(y)) # set the output values to zero if corresponding input values are zero\n",
    "    return tf.sqrt(tf.div(tf.reduce_sum(tf.square(tf.subtract(masked_y*5,mask*5))),num_train_labels))"
   ]
  },
  {
   "cell_type": "code",
   "execution_count": 21,
   "metadata": {},
   "outputs": [],
   "source": [
    "learning_rate = 0.0001\n",
    "n_hidden = 512\n",
    "n_embed = 128\n",
    "act_hidden_e = tf.nn.relu\n",
    "act_out_e = tf.nn.relu\n",
    "act_hidden_d = tf.nn.relu\n",
    "act_out_d = None\n",
    "nr_users = 10000\n",
    "nr_movies = 1000\n",
    "dropout_rate = 1 # no dropout\n",
    "lamba = 0.001 # regularization hyperparameter\n",
    "\n",
    "# Input placeholders\n",
    "x_mask = tf.placeholder(tf.float32, (None, nr_movies), name=\"maskInput\")\n",
    "x = tf.placeholder(tf.float32, (None, nr_movies), name = \"input\")\n",
    "drop_rate = tf.placeholder(tf.float32, name=\"dropoutPlaceholder\")\n",
    "\n",
    "# forward pass\n",
    "Z = encode(x, n_hidden=n_hidden, n_embed=n_embed, act_hidden=act_hidden_e, act_out=act_out_e, keep_prob=drop_rate)\n",
    "outputs = decode(Z, n_hidden=n_hidden, act_hidden=act_hidden_d, act_out=act_out_d, keep_prob=drop_rate)\n",
    "\n",
    "# Loss\n",
    "loss_op = masked_loss(x_mask, outputs)\n",
    "l2_loss = tf.add_n([tf.nn.l2_loss(v) for v in tf.trainable_variables()])\n",
    "loss_op_reg = loss_op + l2_loss * lamba\n",
    "\n",
    "# Optimizer\n",
    "train_op = tf.train.RMSPropOptimizer(learning_rate).minimize(loss_op_reg)"
   ]
  },
  {
   "cell_type": "markdown",
   "metadata": {},
   "source": [
    "## Train model"
   ]
  },
  {
   "cell_type": "code",
   "execution_count": 28,
   "metadata": {},
   "outputs": [
    {
     "name": "stdout",
     "output_type": "stream",
     "text": [
      "train 1.5098382 test 1.0461851\n",
      "train 1.0223578 test 1.022763\n",
      "train 0.9996674 test 1.0143312\n",
      "train 0.99142575 test 1.0164019\n",
      "train 0.9875083 test 1.0043389\n",
      "train 0.9834572 test 1.0057999\n",
      "train 0.98165506 test 1.0061885\n",
      "train 0.97839797 test 0.998956\n",
      "train 0.9771793 test 1.002149\n",
      "train 0.9753387 test 0.99609214\n"
     ]
    }
   ],
   "source": [
    "batch_size = 8\n",
    "epochs = 10\n",
    "\n",
    "with tf.Session() as sess:\n",
    "    sess.run(tf.global_variables_initializer())\n",
    "    test_losses = []\n",
    "    train_losses = []\n",
    "\n",
    "    for epoch in range(epochs):\n",
    "        train_losses_epoch=[]\n",
    "\n",
    "        for user in range(nr_users//batch_size):\n",
    "            sta = user*batch_size\n",
    "            end = (user+1)*batch_size\n",
    "            loss, _  = sess.run([loss_op, train_op], {x: train_matrix[sta:end], x_mask: train_matrix[sta:end], drop_rate: dropout_rate})\n",
    "            train_losses_epoch.append(loss)\n",
    "\n",
    "        \n",
    "        test_loss = sess.run(loss_op, {x: train_matrix, x_mask: test_matrix, drop_rate:1.0})\n",
    "        print(\"train\", np.mean(train_losses_epoch), \"test\", test_loss)\n",
    "\n",
    "        test_losses.append(test_loss)\n",
    "        train_losses.append(np.mean(train_losses_epoch))\n"
   ]
  },
  {
   "cell_type": "markdown",
   "metadata": {},
   "source": [
    "### Plot test loss"
   ]
  },
  {
   "cell_type": "code",
   "execution_count": 29,
   "metadata": {},
   "outputs": [
    {
     "data": {
      "image/png": "[encoded data removed]",
      "text/plain": [
       "<Figure size 432x288 with 1 Axes>"
      ]
     },
     "metadata": {
      "needs_background": "light"
     },
     "output_type": "display_data"
    }
   ],
   "source": [
    "# plt.plot(train_losses)\n",
    "plt.plot(test_losses)\n",
    "plt.show()"
   ]
  },
  {
   "cell_type": "code",
   "execution_count": null,
   "metadata": {},
   "outputs": [],
   "source": []
  }
 ],
 "metadata": {
  "kernelspec": {
   "display_name": "Python 3",
   "language": "python",
   "name": "python3"
  },
  "language_info": {
   "codemirror_mode": {
    "name": "ipython",
    "version": 3
   },
   "file_extension": ".py",
   "mimetype": "text/x-python",
   "name": "python",
   "nbconvert_exporter": "python",
   "pygments_lexer": "ipython3",
   "version": "3.6.8"
  }
 },
 "nbformat": 4,
 "nbformat_minor": 2
}
